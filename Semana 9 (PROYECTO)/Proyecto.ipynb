{
 "cells": [
  {
   "cell_type": "markdown",
   "id": "bbf971c3",
   "metadata": {},
   "source": [
    "# 1. Cargar Datos.\n",
    "## Cargar los datos en Pandas DataFrames, asegurándose de conectar el volumen de datos en comparación del valor o capitalización en dólares para el mercado, intentando analizar el comportamiento proporcional entre ambos\n"
   ]
  },
  {
   "cell_type": "code",
   "execution_count": 12,
   "id": "27369c1e",
   "metadata": {},
   "outputs": [
    {
     "name": "stdout",
     "output_type": "stream",
     "text": [
      "___________________________data crypto_____________________________\n",
      "<class 'pandas.core.frame.DataFrame'>\n",
      "RangeIndex: 98378 entries, 0 to 98377\n",
      "Data columns (total 5 columns):\n",
      " #   Column        Non-Null Count  Dtype  \n",
      "---  ------        --------------  -----  \n",
      " 0   date          98378 non-null  object \n",
      " 1   price         98378 non-null  float64\n",
      " 2   total_volume  98378 non-null  float64\n",
      " 3   market_cap    98373 non-null  float64\n",
      " 4   coin_name     98378 non-null  object \n",
      "dtypes: float64(3), object(2)\n",
      "memory usage: 3.8+ MB\n",
      "___________________________MONEDAS CON MAS VOLUMEN DE MERCADO_____________________________\n"
     ]
    },
    {
     "data": {
      "text/html": [
       "<table border=\"1\" class=\"dataframe\">\n",
       "  <thead>\n",
       "    <tr style=\"text-align: right;\">\n",
       "      <th></th>\n",
       "      <th>date</th>\n",
       "      <th>price</th>\n",
       "      <th>total_volume</th>\n",
       "      <th>market_cap</th>\n",
       "      <th>coin_name</th>\n",
       "    </tr>\n",
       "  </thead>\n",
       "  <tbody>\n",
       "    <tr>\n",
       "      <th>82338</th>\n",
       "      <td>2021-11-03 00:00:00.000</td>\n",
       "      <td>1.004494</td>\n",
       "      <td>9.267677e+11</td>\n",
       "      <td>7.135497e+10</td>\n",
       "      <td>tether</td>\n",
       "    </tr>\n",
       "    <tr>\n",
       "      <th>82606</th>\n",
       "      <td>2022-07-29 00:00:00.000</td>\n",
       "      <td>0.999281</td>\n",
       "      <td>9.089869e+11</td>\n",
       "      <td>6.589619e+10</td>\n",
       "      <td>tether</td>\n",
       "    </tr>\n",
       "    <tr>\n",
       "      <th>82171</th>\n",
       "      <td>2021-05-20 00:00:00.000</td>\n",
       "      <td>0.994191</td>\n",
       "      <td>2.953730e+11</td>\n",
       "      <td>5.818223e+10</td>\n",
       "      <td>tether</td>\n",
       "    </tr>\n",
       "    <tr>\n",
       "      <th>82165</th>\n",
       "      <td>2021-05-14 00:00:00.000</td>\n",
       "      <td>0.992983</td>\n",
       "      <td>2.581028e+11</td>\n",
       "      <td>5.793508e+10</td>\n",
       "      <td>tether</td>\n",
       "    </tr>\n",
       "    <tr>\n",
       "      <th>82138</th>\n",
       "      <td>2021-04-17 00:00:00.000</td>\n",
       "      <td>0.998927</td>\n",
       "      <td>2.325612e+11</td>\n",
       "      <td>4.696648e+10</td>\n",
       "      <td>tether</td>\n",
       "    </tr>\n",
       "  </tbody>\n",
       "</table>"
      ],
      "text/plain": [
       "<IPython.core.display.HTML object>"
      ]
     },
     "metadata": {},
     "output_type": "display_data"
    },
    {
     "name": "stdout",
     "output_type": "stream",
     "text": [
      "___________________________MONEDAS CON MAS MARKET CAP_____________________________\n"
     ]
    },
    {
     "data": {
      "text/html": [
       "<table border=\"1\" class=\"dataframe\">\n",
       "  <thead>\n",
       "    <tr style=\"text-align: right;\">\n",
       "      <th></th>\n",
       "      <th>date</th>\n",
       "      <th>price</th>\n",
       "      <th>total_volume</th>\n",
       "      <th>market_cap</th>\n",
       "      <th>coin_name</th>\n",
       "    </tr>\n",
       "  </thead>\n",
       "  <tbody>\n",
       "    <tr>\n",
       "      <th>14766</th>\n",
       "      <td>2024-03-14 00:00:00.000</td>\n",
       "      <td>73097.767027</td>\n",
       "      <td>5.190660e+10</td>\n",
       "      <td>1.436631e+12</td>\n",
       "      <td>bitcoin</td>\n",
       "    </tr>\n",
       "    <tr>\n",
       "      <th>14764</th>\n",
       "      <td>2024-03-12 00:00:00.000</td>\n",
       "      <td>72130.553008</td>\n",
       "      <td>6.665307e+10</td>\n",
       "      <td>1.417773e+12</td>\n",
       "      <td>bitcoin</td>\n",
       "    </tr>\n",
       "    <tr>\n",
       "      <th>14767</th>\n",
       "      <td>2024-03-15 00:00:00.000</td>\n",
       "      <td>71420.031801</td>\n",
       "      <td>6.307355e+10</td>\n",
       "      <td>1.403843e+12</td>\n",
       "      <td>bitcoin</td>\n",
       "    </tr>\n",
       "    <tr>\n",
       "      <th>14765</th>\n",
       "      <td>2024-03-13 00:00:00.000</td>\n",
       "      <td>71467.173503</td>\n",
       "      <td>6.459934e+10</td>\n",
       "      <td>1.403693e+12</td>\n",
       "      <td>bitcoin</td>\n",
       "    </tr>\n",
       "    <tr>\n",
       "      <th>14768</th>\n",
       "      <td>2024-03-16 00:00:00.000</td>\n",
       "      <td>69497.763193</td>\n",
       "      <td>8.120443e+10</td>\n",
       "      <td>1.367669e+12</td>\n",
       "      <td>bitcoin</td>\n",
       "    </tr>\n",
       "  </tbody>\n",
       "</table>"
      ],
      "text/plain": [
       "<IPython.core.display.HTML object>"
      ]
     },
     "metadata": {},
     "output_type": "display_data"
    }
   ],
   "source": [
    "# normalmente los csv vienen separados por \",\" en este caso especial, por \";\"\n",
    "def cargarDatos():\n",
    "    import pandas as pd\n",
    "    import os\n",
    "    import glob\n",
    "    from IPython.core.display import HTML\n",
    "\n",
    "    #display(HTML(df_data.to_html()))\n",
    "\n",
    "    ruta = 'C:/Users/mois_/Desktop/Repositorios/Cryptobros/Semana 9 (PROYECTO)/archive'\n",
    "\n",
    "    files = glob.glob(os.path.join(ruta, '*.csv'))\n",
    "\n",
    "    dataframes= []\n",
    "\n",
    "    for file in files:\n",
    "        df = pd.read_csv(file, delimiter=',')  # Asegúrate de especificar el delimitador correcto si es diferente de \",\"\n",
    "        dataframes.append(df)\n",
    "\n",
    "\n",
    "\n",
    "    # Concatenar todos los DataFrames en uno solo, en caso de necesitar usarlo\n",
    "    data_crypto = pd.concat(dataframes, ignore_index=True)\n",
    "\n",
    "\n",
    "    # Ahora puedes imprimir la información del DataFrame\n",
    "    print(\"___________________________data crypto_____________________________\")\n",
    "    data_crypto.info()\n",
    "    \n",
    "    \n",
    "    print(\"___________________________MONEDAS CON MAS VOLUMEN DE MERCADO_____________________________\")\n",
    "    display(HTML(data_crypto.sort_values(by=['total_volume'], ascending=[False]).head().to_html())) # print\n",
    "    print(\"___________________________MONEDAS CON MAS MARKET CAP_____________________________\")\n",
    "    display(HTML(data_crypto.sort_values(by=['market_cap'], ascending=[False]).head().to_html())) # print\n",
    "    \n",
    "cargarDatos()"
   ]
  },
  {
   "cell_type": "code",
   "execution_count": null,
   "id": "c290237e",
   "metadata": {},
   "outputs": [],
   "source": []
  }
 ],
 "metadata": {
  "kernelspec": {
   "display_name": "Python 3 (ipykernel)",
   "language": "python",
   "name": "python3"
  },
  "language_info": {
   "codemirror_mode": {
    "name": "ipython",
    "version": 3
   },
   "file_extension": ".py",
   "mimetype": "text/x-python",
   "name": "python",
   "nbconvert_exporter": "python",
   "pygments_lexer": "ipython3",
   "version": "3.11.5"
  }
 },
 "nbformat": 4,
 "nbformat_minor": 5
}
