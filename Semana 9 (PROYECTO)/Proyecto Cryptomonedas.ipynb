{
 "cells": [
  {
   "cell_type": "markdown",
   "id": "acb5dd21",
   "metadata": {},
   "source": [
    "# PROYECTO: ANÁLISIS DE CRIPTOMONEDAS\n",
    "\n",
    "### Objetivo: Tratamiento de un conjunto de datos que tiene la información de las principales 50 criptomonedas en el mercado. Los datos han sido recopilados diariamente desde el 1 de enero de 2015.\n",
    "\n",
    "### Datos de estudio:\n",
    "#### Fecha: Fecha de observación del precio 00:00:00 horas.\n",
    "#### Precio: Precio por fecha y hora.\n",
    "#### Volumen de transacciones: Cantidad de transacciones por día.\n",
    "#### Precio (market_cap): Precio de las criptomonedas en el mercado con relación al USD.\n",
    "#### Nombre de la moneda.\n",
    "\n"
   ]
  },
  {
   "cell_type": "markdown",
   "id": "77c9d859",
   "metadata": {},
   "source": [
    "# 1. Cargar los datos en Pandas DataFrames, asegurándose de conectar el volumen de datos en comparación del valor o capitalización en dólares para el mercado, intentando analizar el comportamiento proporcional entre ambos. "
   ]
  },
  {
   "cell_type": "code",
   "execution_count": null,
   "id": "1ef63d6b",
   "metadata": {},
   "outputs": [],
   "source": [
    "# normalmente los csv vienen separados por \",\" en este caso especial, por \";\"\n",
    "\n",
    "import pandas as pd\n",
    "from IPython.core.display import HTML\n",
    "\n",
    "#display(HTML(df_data.to_html()))\n",
    "\n",
    "file1=\"student-mat.csv\"\n",
    "file2=\"student-por.csv\"\n",
    "\n",
    "def open_csv(file):\n",
    "    data=pd.read_csv(file,sep=\";\") #SIEMPRE como un df\n",
    "    return data\n",
    "\n",
    "# RAW data -> data original \n",
    "data_mat=open_csv(file1)\n",
    "data_por=open_csv(file2)\n",
    "\n",
    "#display(HTML(data_mat.to_html())) # print\n",
    "print(\"___________________________data mat_____________________________\")\n",
    "data_mat.info()\n",
    "print(\"___________________________data por_____________________________\")\n",
    "data_por.info()"
   ]
  }
 ],
 "metadata": {
  "kernelspec": {
   "display_name": "Python 3 (ipykernel)",
   "language": "python",
   "name": "python3"
  },
  "language_info": {
   "codemirror_mode": {
    "name": "ipython",
    "version": 3
   },
   "file_extension": ".py",
   "mimetype": "text/x-python",
   "name": "python",
   "nbconvert_exporter": "python",
   "pygments_lexer": "ipython3",
   "version": "3.11.5"
  }
 },
 "nbformat": 4,
 "nbformat_minor": 5
}
